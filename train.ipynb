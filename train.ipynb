{
 "cells": [
  {
   "cell_type": "markdown",
   "id": "46c2e740-ef06-4f59-8294-02168e37eda4",
   "metadata": {},
   "source": [
    "## Part 1: Training Baselines without Synthetic Data"
   ]
  },
  {
   "cell_type": "code",
   "execution_count": null,
   "id": "d845ffb2-6c3e-4757-99bc-8231a8343c08",
   "metadata": {},
   "outputs": [],
   "source": [
    "from ultralytics import YOLO\n",
    "\n",
    "# Load a model\n",
    "model = YOLO(\"yolov5n.pt\")  # load a pretrained model (recommended for training)\n",
    "\n",
    "# Train the model\n",
    "results = model.train(data=\"dataset/data.yaml\", epochs=20, imgsz=960, batch=16, val=False)"
   ]
  },
  {
   "cell_type": "code",
   "execution_count": null,
   "id": "8a7d605d-883c-42e2-b51f-6b6c0fdec0c3",
   "metadata": {},
   "outputs": [],
   "source": [
    "from ultralytics import YOLO\n",
    "\n",
    "# Load a model\n",
    "model = YOLO(\"yolov5x.pt\")  # load a pretrained model (recommended for training)\n",
    "\n",
    "# Train the model\n",
    "results = model.train(data=\"dataset/data.yaml\", epochs=20, imgsz=960, batch=16, val=False)"
   ]
  },
  {
   "cell_type": "code",
   "execution_count": null,
   "id": "3482fc6d-68bc-4180-8e7a-effe345c8ff0",
   "metadata": {},
   "outputs": [],
   "source": [
    "from ultralytics import YOLO\n",
    "\n",
    "# Load a model\n",
    "model = YOLO(\"cfg/yolov5-resnet50.yaml\")  # load a pretrained model (recommended for training)\n",
    "\n",
    "# Train the model\n",
    "results = model.train(data=\"dataset/data.yaml\", epochs=20, imgsz=960, batch=16, val=False)"
   ]
  },
  {
   "cell_type": "code",
   "execution_count": null,
   "id": "23818826-c73f-4c88-a467-fda29d165c59",
   "metadata": {},
   "outputs": [],
   "source": [
    "from ultralytics import YOLO\n",
    "\n",
    "# Load a model\n",
    "model = YOLO(\"cfg/yolov5-resnet101.yaml\")  # load a pretrained model (recommended for training)\n",
    "\n",
    "# Train the model\n",
    "results = model.train(data=\"dataset/data.yaml\", epochs=20, imgsz=960, batch=16, val=False)"
   ]
  },
  {
   "cell_type": "code",
   "execution_count": null,
   "id": "d6926593-6c05-4dd2-b88d-7e8992c85cf2",
   "metadata": {},
   "outputs": [],
   "source": [
    "from ultralytics import YOLO\n",
    "\n",
    "# Load a model\n",
    "model = YOLO(\"cfg/yolov5-wide-resnet50-2.yaml\")  # load a pretrained model (recommended for training)\n",
    "\n",
    "# Train the model\n",
    "results = model.train(data=\"dataset/data.yaml\", epochs=20, imgsz=960, batch=16, val=False)"
   ]
  },
  {
   "cell_type": "markdown",
   "id": "8ed815e0-7c85-4b38-8ade-4c7e3aa3c14b",
   "metadata": {},
   "source": [
    "## Part 2: Train with synthetic data"
   ]
  },
  {
   "cell_type": "code",
   "execution_count": null,
   "id": "ce002e2b-444f-4257-99de-7cf3f70402d9",
   "metadata": {},
   "outputs": [],
   "source": [
    "# Copy all files in source directory to destination\n",
    "\n",
    "import shutil\n",
    "import os\n",
    "\n",
    "def copy_files(source_dir, destination_dir):\n",
    "    \"\"\"\n",
    "    Copies all files from the source directory to the destination directory.\n",
    "\n",
    "    Args:\n",
    "        source_dir: The path to the source directory.\n",
    "        destination_dir: The path to the destination directory.\n",
    "    \"\"\"\n",
    "    try:\n",
    "        # Create the destination directory if it doesn't exist\n",
    "        if not os.path.exists(destination_dir):\n",
    "            os.makedirs(destination_dir)\n",
    "\n",
    "        for filename in os.listdir(source_dir):\n",
    "            source_path = os.path.join(source_dir, filename)\n",
    "            destination_path = os.path.join(destination_dir, filename)\n",
    "\n",
    "            if os.path.isfile(source_path):\n",
    "                shutil.copy2(source_path, destination_path) # copy2 preserves metadata\n",
    "                #print(f\"Copied '{filename}' to '{destination_dir}'\")\n",
    "\n",
    "    except FileNotFoundError:\n",
    "        print(f\"Error: Source directory '{source_dir}' not found.\")\n",
    "    except Exception as e:\n",
    "        print(f\"An error occurred: {e}\")"
   ]
  },
  {
   "cell_type": "code",
   "execution_count": null,
   "id": "2b993dee-f35b-4535-84b6-0f5a54e75b71",
   "metadata": {},
   "outputs": [],
   "source": [
    "# copy from synthetic dataset to dataset\n",
    "source_directory = \"synthetic/images\"\n",
    "destination_directory = \"dataset/images/train\"\n",
    "copy_files(source_directory, destination_directory)\n",
    "\n",
    "source_directory = \"synthetic/labels\"\n",
    "destination_directory = \"dataset/labels/train\"\n",
    "copy_files(source_directory, destination_directory)"
   ]
  },
  {
   "cell_type": "code",
   "execution_count": null,
   "id": "08253fee-f785-4dec-8130-1861ec2a44d8",
   "metadata": {},
   "outputs": [],
   "source": [
    "from ultralytics import YOLO\n",
    "\n",
    "# Load a model\n",
    "model = YOLO(\"cfg/yolov5-wide-resnet50-2.yaml\")  # load a pretrained model (recommended for training)\n",
    "\n",
    "# Train the model\n",
    "results = model.train(data=\"dataset/data.yaml\", epochs=20, imgsz=960, batch=16, val=False)"
   ]
  }
 ],
 "metadata": {
  "kernelspec": {
   "display_name": "Python 3 (ipykernel)",
   "language": "python",
   "name": "python3"
  },
  "language_info": {
   "codemirror_mode": {
    "name": "ipython",
    "version": 3
   },
   "file_extension": ".py",
   "mimetype": "text/x-python",
   "name": "python",
   "nbconvert_exporter": "python",
   "pygments_lexer": "ipython3",
   "version": "3.10.12"
  }
 },
 "nbformat": 4,
 "nbformat_minor": 5
}
